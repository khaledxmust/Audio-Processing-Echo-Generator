{
 "cells": [
  {
   "cell_type": "code",
   "execution_count": 1,
   "metadata": {},
   "outputs": [],
   "source": [
    "import os\n",
    "import wave\n",
    "from warnings import warn\n",
    "from audioop import add, mul\n",
    "from IPython.display import Audio, display, HTML"
   ]
  },
  {
   "cell_type": "markdown",
   "metadata": {},
   "source": [
    "### Dataset Creation (Echo)"
   ]
  },
  {
   "cell_type": "code",
   "execution_count": 2,
   "metadata": {},
   "outputs": [],
   "source": [
    "def xdisplay(file): #display audio object\n",
    "    return display(HTML('<a href='+file+'>'+file+'</a>'),\n",
    "           Audio(url=file, embed=False))\n",
    "\n",
    "def input_wave(filename,frames=10000000): #10000000 is an arbitrary large number of frames\n",
    "    with wave.open(filename,'rb') as wave_file:\n",
    "        params=wave_file.getparams()\n",
    "        audio=wave_file.readframes(frames)  \n",
    "    return params, audio\n",
    "\n",
    "def output_wave(audio, params, stem, suffix): #dynamically format the filename by passing in data\n",
    "    filename=stem.replace('.wav','_{}.wav'.format(suffix))\n",
    "    with wave.open(filename,'wb') as wave_file:\n",
    "        wave_file.setparams(params)\n",
    "        wave_file.writeframes(audio)\n",
    "\n",
    "def delay(audio_bytes,params,offset_ms,factor=1,num=1):\n",
    "    if factor>1:\n",
    "        warn(\"These settings may produce a very loud audio file. Please use caution when listening\")\n",
    "    offset=params.sampwidth*offset_ms*int(params.framerate/1000)\n",
    "    audio_bytes=audio_bytes+b'\\0'*offset*(num)\n",
    "    delayed_bytes=audio_bytes\n",
    "    for i in range(num):\n",
    "        beginning = b'\\0'*offset*(i+1)\n",
    "        end = audio_bytes[:-offset*(i+1)]\n",
    "        multiplied_end= mul(end,params.sampwidth,factor**(i+1))\n",
    "        delayed_bytes= add(delayed_bytes, beginning+multiplied_end, params.sampwidth)\n",
    "    return delayed_bytes"
   ]
  },
  {
   "cell_type": "code",
   "execution_count": 3,
   "metadata": {},
   "outputs": [],
   "source": [
    "def EchoConverter(path):\n",
    "    \n",
    "    i = 0\n",
    "    try: os.mkdir(\"Echo\")\n",
    "    except: pass\n",
    "    \n",
    "    Delx = [1, 50, 100, 300, 500, 1000]\n",
    "    Volx = [0.1, 0.2, 0.4, 0.6, 0.8, 1]\n",
    "    Mulx = [0, 1, 2, 3, 4, 5]\n",
    "    \n",
    "    for file in os.listdir(path):\n",
    "        \n",
    "        AudioParams, AudioBytes = input_wave(os.getcwd()+\"\\\\\"+path+\"\\\\\"+file)\n",
    "\n",
    "        for D in Delx:\n",
    "            \n",
    "            for V in Volx:\n",
    "                \n",
    "                for M in Mulx:\n",
    "                    \n",
    "                    output_wave(delay(AudioBytes,AudioParams,D, V, M), AudioParams, 'Echo/' + file[:-4] + '.wav', 'D'+ str(D) + ' V' + str(V) + ' M' + str(M))\n",
    "          \n",
    "        i += 1\n",
    "        \n",
    "        print(\"Processing Audio: \" + str(i), end=\"\\r\")"
   ]
  },
  {
   "cell_type": "code",
   "execution_count": 4,
   "metadata": {},
   "outputs": [
    {
     "name": "stdout",
     "output_type": "stream",
     "text": [
      "Enter the audio folder path\n",
      "Converted\n",
      "Processing Audio: 33\r"
     ]
    }
   ],
   "source": [
    "print('Enter the audio folder path') \n",
    "path = input()\n",
    "EchoConverter(path)"
   ]
  },
  {
   "cell_type": "code",
   "execution_count": null,
   "metadata": {},
   "outputs": [],
   "source": []
  },
  {
   "cell_type": "code",
   "execution_count": 81,
   "metadata": {},
   "outputs": [],
   "source": []
  },
  {
   "cell_type": "code",
   "execution_count": null,
   "metadata": {},
   "outputs": [],
   "source": []
  }
 ],
 "metadata": {
  "kernelspec": {
   "display_name": "Python 3",
   "language": "python",
   "name": "python3"
  },
  "language_info": {
   "codemirror_mode": {
    "name": "ipython",
    "version": 3
   },
   "file_extension": ".py",
   "mimetype": "text/x-python",
   "name": "python",
   "nbconvert_exporter": "python",
   "pygments_lexer": "ipython3",
   "version": "3.7.4"
  }
 },
 "nbformat": 4,
 "nbformat_minor": 2
}
